{
 "cells": [
  {
   "cell_type": "code",
   "execution_count": 1,
   "id": "501994f0",
   "metadata": {
    "execution": {
     "iopub.execute_input": "2024-04-09T23:03:42.097278Z",
     "iopub.status.busy": "2024-04-09T23:03:42.096756Z",
     "iopub.status.idle": "2024-04-09T23:03:43.012995Z",
     "shell.execute_reply": "2024-04-09T23:03:43.012458Z"
    }
   },
   "outputs": [
    {
     "name": "stdout",
     "output_type": "stream",
     "text": [
      "g_u: -4.63e-09 m s^(-2)\n"
     ]
    },
    {
     "name": "stdout",
     "output_type": "stream",
     "text": [
      "g_eu: 0.00e+00 s^(-2)\n",
      "g_uu: 7.72e-10 s^(-2)\n"
     ]
    }
   ],
   "source": [
    "import choclo\n",
    "\n",
    "# Define a single point mass located 10 meters below the zero height\n",
    "easting_m, northing_m, upward_m = 0., 0., -10.\n",
    "mass = 1e4  # mass of the source in kg\n",
    "\n",
    "# Define coordinates of an observation point 2 meters above the zero height\n",
    "easting, northing, upward = 0., 0., 2.\n",
    "\n",
    "# Compute the upward compont of the gravity acceleration the point mass\n",
    "# generates on this observation point (in SI units)\n",
    "g_u = choclo.point.gravity_u(\n",
    "   easting, northing, upward, easting_m, northing_m, upward_m, mass\n",
    ")\n",
    "print(f\"g_u: {g_u:.2e} m s^(-2)\")\n",
    "\n",
    "# Compute gravity tensor components (in SI units)\n",
    "g_eu = choclo.point.gravity_eu(\n",
    "   easting, northing, upward, easting_m, northing_m, upward_m, mass\n",
    ")\n",
    "g_uu = choclo.point.gravity_uu(\n",
    "   easting, northing, upward, easting_m, northing_m, upward_m, mass\n",
    ")\n",
    "print(f\"g_eu: {g_eu:.2e} s^(-2)\")\n",
    "print(f\"g_uu: {g_uu:.2e} s^(-2)\")"
   ]
  },
  {
   "cell_type": "code",
   "execution_count": 2,
   "id": "47ec0eb8",
   "metadata": {
    "execution": {
     "iopub.execute_input": "2024-04-09T23:03:43.015288Z",
     "iopub.status.busy": "2024-04-09T23:03:43.015026Z",
     "iopub.status.idle": "2024-04-09T23:03:44.614929Z",
     "shell.execute_reply": "2024-04-09T23:03:44.614340Z"
    }
   },
   "outputs": [
    {
     "name": "stdout",
     "output_type": "stream",
     "text": [
      "g_u: -4.63e-07 m s^(-2)\n"
     ]
    },
    {
     "name": "stdout",
     "output_type": "stream",
     "text": [
      "g_nu: 2.14e-08 s^(-2)\n",
      "g_ee: -3.47e-08 s^(-2)\n"
     ]
    }
   ],
   "source": [
    "import numpy as np\n",
    "\n",
    "# Define a single rectangular prism through its boundaries\n",
    "west, east, south, north, bottom, top = -1., 5., -4., 4., -20., -10.\n",
    "density = 2900  # density of the prism in kg m^(-3)\n",
    "\n",
    "# Define coordinates of an observation point\n",
    "easting, northing, upward = 1., 3., -1.\n",
    "\n",
    "# Compute the upward compont of the gravity acceleration the prism\n",
    "# generates on this observation point (in SI units)\n",
    "g_u = choclo.prism.gravity_u(\n",
    "    easting, northing, upward, west, east, south, north, bottom, top, density,\n",
    ")\n",
    "print(f\"g_u: {g_u:.2e} m s^(-2)\")\n",
    "\n",
    "# Compute gravity tensor components (in SI units)\n",
    "g_nu = choclo.prism.gravity_nu(\n",
    "    easting, northing, upward, west, east, south, north, bottom, top, density,\n",
    ")\n",
    "g_ee = choclo.prism.gravity_ee(\n",
    "    easting, northing, upward, west, east, south, north, bottom, top, density,\n",
    ")\n",
    "print(f\"g_nu: {g_nu:.2e} s^(-2)\")\n",
    "print(f\"g_ee: {g_ee:.2e} s^(-2)\")"
   ]
  },
  {
   "cell_type": "code",
   "execution_count": 3,
   "id": "e0bb0545",
   "metadata": {
    "execution": {
     "iopub.execute_input": "2024-04-09T23:03:44.617217Z",
     "iopub.status.busy": "2024-04-09T23:03:44.616823Z",
     "iopub.status.idle": "2024-04-09T23:03:44.745362Z",
     "shell.execute_reply": "2024-04-09T23:03:44.744852Z"
    }
   },
   "outputs": [
    {
     "name": "stdout",
     "output_type": "stream",
     "text": [
      "b_e: -6.07e-09 T\n",
      "b_n: -2.13e-09 T\n",
      "b_u: -1.64e-09 T\n"
     ]
    }
   ],
   "source": [
    "# Define the location of a dipole\n",
    "easting_d, northing_d, upward_d = -4., 2., -1.\n",
    "\n",
    "# Define the magnetic moment vector of the dipole (in A m^2)\n",
    "mag_moment_e, mag_moment_n, mag_moment_u = 1., 1., -2.\n",
    "\n",
    "# Define coordinates of an observation point\n",
    "easting, northing, upward = -2., 2., 2.\n",
    "\n",
    "# Compute the magnetic field of the dipole on the observation point (in T)\n",
    "b_e, b_n, b_u = choclo.dipole.magnetic_field(\n",
    "   easting,\n",
    "   northing,\n",
    "   upward,\n",
    "   easting_d,\n",
    "   northing_d,\n",
    "   upward_d,\n",
    "   mag_moment_e,\n",
    "   mag_moment_n,\n",
    "   mag_moment_u,\n",
    ")\n",
    "print(f\"b_e: {b_e:.2e} T\")\n",
    "print(f\"b_n: {b_n:.2e} T\")\n",
    "print(f\"b_u: {b_u:.2e} T\")"
   ]
  },
  {
   "cell_type": "code",
   "execution_count": 4,
   "id": "16967645",
   "metadata": {
    "execution": {
     "iopub.execute_input": "2024-04-09T23:03:44.747571Z",
     "iopub.status.busy": "2024-04-09T23:03:44.747194Z",
     "iopub.status.idle": "2024-04-09T23:03:45.295297Z",
     "shell.execute_reply": "2024-04-09T23:03:45.294670Z"
    }
   },
   "outputs": [
    {
     "name": "stdout",
     "output_type": "stream",
     "text": [
      "b_u: -4.71e-08 T\n"
     ]
    }
   ],
   "source": [
    "# Define a rectangular prism\n",
    "west, east, south, north, bottom, top = -1., 5., -4., 4., -20., -10.\n",
    "\n",
    "# Define its magnetization vector (in A m^(-1))\n",
    "m_e, m_n, m_u = 0.5, -1.5, -1.3\n",
    "\n",
    "# Define coordinates of an observation point\n",
    "easting, northing, upward = 3., 0., -1.\n",
    "\n",
    "# Compute the upward component of the magnetic field of the prism (in T)\n",
    "b_u = choclo.prism.magnetic_u(\n",
    "    easting, northing, upward, west, east, south, north, bottom, top, m_e, m_n, m_u,\n",
    ")\n",
    "print(f\"b_u: {b_u:.2e} T\")"
   ]
  }
 ],
 "metadata": {
  "kernelspec": {
   "display_name": "Python 3 (ipykernel)",
   "language": "python",
   "name": "python3"
  },
  "language_info": {
   "codemirror_mode": {
    "name": "ipython",
    "version": 3
   },
   "file_extension": ".py",
   "mimetype": "text/x-python",
   "name": "python",
   "nbconvert_exporter": "python",
   "pygments_lexer": "ipython3",
   "version": "3.12.2"
  }
 },
 "nbformat": 4,
 "nbformat_minor": 5
}