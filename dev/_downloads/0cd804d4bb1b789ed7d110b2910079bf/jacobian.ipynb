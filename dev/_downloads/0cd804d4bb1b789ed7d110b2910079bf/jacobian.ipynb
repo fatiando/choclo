{
 "cells": [
  {
   "cell_type": "code",
   "execution_count": 1,
   "id": "06e064d7",
   "metadata": {
    "execution": {
     "iopub.execute_input": "2024-10-08T19:48:16.438642Z",
     "iopub.status.busy": "2024-10-08T19:48:16.438455Z",
     "iopub.status.idle": "2024-10-08T19:48:16.644874Z",
     "shell.execute_reply": "2024-10-08T19:48:16.644263Z"
    }
   },
   "outputs": [],
   "source": [
    "import numba\n",
    "import numpy as np\n",
    "from choclo.prism import gravity_u\n",
    "\n",
    "@numba.jit(nopython=True, parallel=True)\n",
    "def build_jacobian(coordinates, prisms):\n",
    "    \"\"\"\n",
    "    Build a sensitivity matrix for gravity_u of a prism\n",
    "    \"\"\"\n",
    "    # Unpack coordinates of the observation points\n",
    "    easting, northing, upward = coordinates[:]\n",
    "    # Initialize an empty 2d array for the sensitivity matrix\n",
    "    n_coords = easting.size\n",
    "    n_prisms = prisms.shape[0]\n",
    "    jacobian = np.empty((n_coords, n_prisms), dtype=np.float64)\n",
    "    # Compute the gravity_u field that each prism generate on every observation\n",
    "    # point, considering that they have a unit density\n",
    "    for i in numba.prange(len(easting)):\n",
    "        for j in range(prisms.shape[0]):\n",
    "            jacobian[i, j] = gravity_u(\n",
    "                easting[i],\n",
    "                northing[i],\n",
    "                upward[i],\n",
    "                prisms[j, 0],\n",
    "                prisms[j, 1],\n",
    "                prisms[j, 2],\n",
    "                prisms[j, 3],\n",
    "                prisms[j, 4],\n",
    "                prisms[j, 5],\n",
    "                1.0,\n",
    "            )\n",
    "    return jacobian"
   ]
  },
  {
   "cell_type": "code",
   "execution_count": 2,
   "id": "74deda23",
   "metadata": {
    "execution": {
     "iopub.execute_input": "2024-10-08T19:48:16.647045Z",
     "iopub.status.busy": "2024-10-08T19:48:16.646662Z",
     "iopub.status.idle": "2024-10-08T19:48:16.650359Z",
     "shell.execute_reply": "2024-10-08T19:48:16.649774Z"
    }
   },
   "outputs": [],
   "source": [
    "easting = np.linspace(-5.0, 5.0, 21)\n",
    "northing = np.linspace(-4.0, 4.0, 21)\n",
    "easting, northing = np.meshgrid(easting, northing)\n",
    "upward = 10 * np.ones_like(easting)\n",
    "\n",
    "coordinates = (easting.ravel(), northing.ravel(), upward.ravel())"
   ]
  },
  {
   "cell_type": "code",
   "execution_count": 3,
   "id": "d4ece05f",
   "metadata": {
    "execution": {
     "iopub.execute_input": "2024-10-08T19:48:16.651977Z",
     "iopub.status.busy": "2024-10-08T19:48:16.651651Z",
     "iopub.status.idle": "2024-10-08T19:48:16.654736Z",
     "shell.execute_reply": "2024-10-08T19:48:16.654291Z"
    }
   },
   "outputs": [],
   "source": [
    "prisms = np.array(\n",
    "    [\n",
    "        [-10.0, 0.0, -7.0, 0.0, -15.0, -10.0],\n",
    "        [-10.0, 0.0, 0.0, 7.0, -25.0, -15.0],\n",
    "        [0.0, 10.0, -7.0, 0.0, -20.0, -13.0],\n",
    "        [0.0, 10.0, 0.0, 7.0, -12.0, -8.0],\n",
    "    ]\n",
    ")"
   ]
  },
  {
   "cell_type": "code",
   "execution_count": 4,
   "id": "8b195080",
   "metadata": {
    "execution": {
     "iopub.execute_input": "2024-10-08T19:48:16.656304Z",
     "iopub.status.busy": "2024-10-08T19:48:16.656002Z",
     "iopub.status.idle": "2024-10-08T19:48:18.247003Z",
     "shell.execute_reply": "2024-10-08T19:48:18.246397Z"
    }
   },
   "outputs": [
    {
     "data": {
      "text/plain": [
       "array([[-4.49966911e-11, -4.76014375e-11, -3.80054986e-11,\n",
       "        -2.83231448e-11],\n",
       "       [-4.49659418e-11, -4.75828152e-11, -3.86898648e-11,\n",
       "        -2.90433576e-11],\n",
       "       [-4.48738920e-11, -4.75270202e-11, -3.93578743e-11,\n",
       "        -2.97540033e-11],\n",
       "       ...,\n",
       "       [-3.19387365e-11, -4.58884222e-11, -4.10526880e-11,\n",
       "        -4.48751701e-11],\n",
       "       [-3.12924999e-11, -4.52460654e-11, -4.11114162e-11,\n",
       "        -4.49880072e-11],\n",
       "       [-3.06338007e-11, -4.45849449e-11, -4.11310225e-11,\n",
       "        -4.50257165e-11]])"
      ]
     },
     "execution_count": 4,
     "metadata": {},
     "output_type": "execute_result"
    }
   ],
   "source": [
    "jacobian = build_jacobian(coordinates, prisms)\n",
    "jacobian"
   ]
  },
  {
   "cell_type": "code",
   "execution_count": 5,
   "id": "62632d20",
   "metadata": {
    "execution": {
     "iopub.execute_input": "2024-10-08T19:48:18.249989Z",
     "iopub.status.busy": "2024-10-08T19:48:18.249241Z",
     "iopub.status.idle": "2024-10-08T19:48:18.252800Z",
     "shell.execute_reply": "2024-10-08T19:48:18.252346Z"
    }
   },
   "outputs": [],
   "source": [
    "# Define densities for the prisms\n",
    "densities = np.array([200.0, 300.0, -100.0, 400.0])\n",
    "\n",
    "# Compute result\n",
    "g_u = jacobian @ densities"
   ]
  },
  {
   "cell_type": "code",
   "execution_count": 6,
   "id": "58c9c109",
   "metadata": {
    "execution": {
     "iopub.execute_input": "2024-10-08T19:48:18.254569Z",
     "iopub.status.busy": "2024-10-08T19:48:18.254222Z",
     "iopub.status.idle": "2024-10-08T19:48:18.258488Z",
     "shell.execute_reply": "2024-10-08T19:48:18.258039Z"
    }
   },
   "outputs": [],
   "source": [
    "@numba.jit(nopython=True, parallel=True)\n",
    "def gravity_upward_parallel(coordinates, prisms, densities):\n",
    "    \"\"\"\n",
    "    Compute the upward component of the acceleration of a set of prisms\n",
    "    \"\"\"\n",
    "    # Unpack coordinates of the observation points\n",
    "    easting, northing, upward = coordinates[:]\n",
    "    # Initialize a result array full of zeros\n",
    "    result = np.zeros_like(easting, dtype=np.float64)\n",
    "    # Compute the upward component that every prism generate on each\n",
    "    # observation point\n",
    "    for i in numba.prange(len(easting)):\n",
    "        for j in range(prisms.shape[0]):\n",
    "            result[i] += gravity_u(\n",
    "                easting[i],\n",
    "                northing[i],\n",
    "                upward[i],\n",
    "                prisms[j, 0],\n",
    "                prisms[j, 1],\n",
    "                prisms[j, 2],\n",
    "                prisms[j, 3],\n",
    "                prisms[j, 4],\n",
    "                prisms[j, 5],\n",
    "                densities[j],\n",
    "            )\n",
    "    return result"
   ]
  },
  {
   "cell_type": "code",
   "execution_count": 7,
   "id": "86a14733",
   "metadata": {
    "execution": {
     "iopub.execute_input": "2024-10-08T19:48:18.260089Z",
     "iopub.status.busy": "2024-10-08T19:48:18.259747Z",
     "iopub.status.idle": "2024-10-08T19:48:18.888792Z",
     "shell.execute_reply": "2024-10-08T19:48:18.888216Z"
    }
   },
   "outputs": [
    {
     "data": {
      "text/plain": [
       "True"
      ]
     },
     "execution_count": 7,
     "metadata": {},
     "output_type": "execute_result"
    }
   ],
   "source": [
    "expected = gravity_upward_parallel(coordinates, prisms, densities)\n",
    "np.allclose(g_u, expected)"
   ]
  }
 ],
 "metadata": {
  "kernelspec": {
   "display_name": "Python 3 (ipykernel)",
   "language": "python",
   "name": "python3"
  },
  "language_info": {
   "codemirror_mode": {
    "name": "ipython",
    "version": 3
   },
   "file_extension": ".py",
   "mimetype": "text/x-python",
   "name": "python",
   "nbconvert_exporter": "python",
   "pygments_lexer": "ipython3",
   "version": "3.12.7"
  }
 },
 "nbformat": 4,
 "nbformat_minor": 5
}